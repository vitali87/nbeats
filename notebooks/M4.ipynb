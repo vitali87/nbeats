{
 "cells": [
  {
   "cell_type": "markdown",
   "metadata": {},
   "source": [
    "# M4"
   ]
  },
  {
   "cell_type": "code",
   "execution_count": 1,
   "metadata": {},
   "outputs": [
    {
     "name": "stderr",
     "output_type": "stream",
     "text": [
      "100%|██████████| 180/180 [01:22<00:00,  2.19it/s]\n",
      "100%|██████████| 180/180 [01:19<00:00,  2.27it/s]\n",
      "100%|██████████| 360/360 [02:32<00:00,  2.36it/s]\n"
     ]
    }
   ],
   "source": [
    "import pandas as pd\n",
    "\n",
    "from summary.m4 import M4Summary\n",
    "from summary.utils import median_ensemble\n",
    "\n",
    "summary = M4Summary()\n",
    "generic = pd.DataFrame(summary.evaluate(median_ensemble('/experiment/storage/experiments/m4_generic')), index=['SMAPE', 'OWA'])\n",
    "interpretable = pd.DataFrame(summary.evaluate(median_ensemble('/experiment/storage/experiments/m4_interpretable')), index=['SMAPE', 'OWA'])\n",
    "ensemble = pd.DataFrame(summary.evaluate(median_ensemble('/experiment/storage/experiments/m4_*')), index=['SMAPE', 'OWA'])"
   ]
  },
  {
   "cell_type": "markdown",
   "metadata": {},
   "source": [
    "## Generic"
   ]
  },
  {
   "cell_type": "code",
   "execution_count": 2,
   "metadata": {},
   "outputs": [
    {
     "data": {
      "text/html": [
       "<div>\n",
       "<style scoped>\n",
       "    .dataframe tbody tr th:only-of-type {\n",
       "        vertical-align: middle;\n",
       "    }\n",
       "\n",
       "    .dataframe tbody tr th {\n",
       "        vertical-align: top;\n",
       "    }\n",
       "\n",
       "    .dataframe thead th {\n",
       "        text-align: right;\n",
       "    }\n",
       "</style>\n",
       "<table border=\"1\" class=\"dataframe\">\n",
       "  <thead>\n",
       "    <tr style=\"text-align: right;\">\n",
       "      <th></th>\n",
       "      <th>Yearly</th>\n",
       "      <th>Quarterly</th>\n",
       "      <th>Monthly</th>\n",
       "      <th>Others</th>\n",
       "      <th>Average</th>\n",
       "    </tr>\n",
       "  </thead>\n",
       "  <tbody>\n",
       "    <tr>\n",
       "      <th>SMAPE</th>\n",
       "      <td>13.114</td>\n",
       "      <td>9.154</td>\n",
       "      <td>12.041</td>\n",
       "      <td>3.628</td>\n",
       "      <td>11.174</td>\n",
       "    </tr>\n",
       "    <tr>\n",
       "      <th>OWA</th>\n",
       "      <td>0.771</td>\n",
       "      <td>0.793</td>\n",
       "      <td>0.818</td>\n",
       "      <td>0.833</td>\n",
       "      <td>0.798</td>\n",
       "    </tr>\n",
       "  </tbody>\n",
       "</table>\n",
       "</div>"
      ],
      "text/plain": [
       "       Yearly  Quarterly  Monthly  Others  Average\n",
       "SMAPE  13.114      9.154   12.041   3.628   11.174\n",
       "OWA     0.771      0.793    0.818   0.833    0.798"
      ]
     },
     "execution_count": 2,
     "metadata": {},
     "output_type": "execute_result"
    }
   ],
   "source": [
    "generic"
   ]
  },
  {
   "cell_type": "markdown",
   "metadata": {},
   "source": [
    "## Interpretable"
   ]
  },
  {
   "cell_type": "code",
   "execution_count": 3,
   "metadata": {},
   "outputs": [
    {
     "data": {
      "text/html": [
       "<div>\n",
       "<style scoped>\n",
       "    .dataframe tbody tr th:only-of-type {\n",
       "        vertical-align: middle;\n",
       "    }\n",
       "\n",
       "    .dataframe tbody tr th {\n",
       "        vertical-align: top;\n",
       "    }\n",
       "\n",
       "    .dataframe thead th {\n",
       "        text-align: right;\n",
       "    }\n",
       "</style>\n",
       "<table border=\"1\" class=\"dataframe\">\n",
       "  <thead>\n",
       "    <tr style=\"text-align: right;\">\n",
       "      <th></th>\n",
       "      <th>Yearly</th>\n",
       "      <th>Quarterly</th>\n",
       "      <th>Monthly</th>\n",
       "      <th>Others</th>\n",
       "      <th>Average</th>\n",
       "    </tr>\n",
       "  </thead>\n",
       "  <tbody>\n",
       "    <tr>\n",
       "      <th>SMAPE</th>\n",
       "      <td>13.018</td>\n",
       "      <td>9.181</td>\n",
       "      <td>11.980</td>\n",
       "      <td>3.659</td>\n",
       "      <td>11.131</td>\n",
       "    </tr>\n",
       "    <tr>\n",
       "      <th>OWA</th>\n",
       "      <td>0.763</td>\n",
       "      <td>0.796</td>\n",
       "      <td>0.817</td>\n",
       "      <td>0.838</td>\n",
       "      <td>0.795</td>\n",
       "    </tr>\n",
       "  </tbody>\n",
       "</table>\n",
       "</div>"
      ],
      "text/plain": [
       "       Yearly  Quarterly  Monthly  Others  Average\n",
       "SMAPE  13.018      9.181   11.980   3.659   11.131\n",
       "OWA     0.763      0.796    0.817   0.838    0.795"
      ]
     },
     "execution_count": 3,
     "metadata": {},
     "output_type": "execute_result"
    }
   ],
   "source": [
    "interpretable"
   ]
  },
  {
   "cell_type": "markdown",
   "metadata": {},
   "source": [
    "## Ensemble"
   ]
  },
  {
   "cell_type": "code",
   "execution_count": 4,
   "metadata": {},
   "outputs": [
    {
     "data": {
      "text/html": [
       "<div>\n",
       "<style scoped>\n",
       "    .dataframe tbody tr th:only-of-type {\n",
       "        vertical-align: middle;\n",
       "    }\n",
       "\n",
       "    .dataframe tbody tr th {\n",
       "        vertical-align: top;\n",
       "    }\n",
       "\n",
       "    .dataframe thead th {\n",
       "        text-align: right;\n",
       "    }\n",
       "</style>\n",
       "<table border=\"1\" class=\"dataframe\">\n",
       "  <thead>\n",
       "    <tr style=\"text-align: right;\">\n",
       "      <th></th>\n",
       "      <th>Yearly</th>\n",
       "      <th>Quarterly</th>\n",
       "      <th>Monthly</th>\n",
       "      <th>Others</th>\n",
       "      <th>Average</th>\n",
       "    </tr>\n",
       "  </thead>\n",
       "  <tbody>\n",
       "    <tr>\n",
       "      <th>SMAPE</th>\n",
       "      <td>12.991</td>\n",
       "      <td>9.131</td>\n",
       "      <td>11.977</td>\n",
       "      <td>3.636</td>\n",
       "      <td>11.110</td>\n",
       "    </tr>\n",
       "    <tr>\n",
       "      <th>OWA</th>\n",
       "      <td>0.762</td>\n",
       "      <td>0.792</td>\n",
       "      <td>0.815</td>\n",
       "      <td>0.835</td>\n",
       "      <td>0.793</td>\n",
       "    </tr>\n",
       "  </tbody>\n",
       "</table>\n",
       "</div>"
      ],
      "text/plain": [
       "       Yearly  Quarterly  Monthly  Others  Average\n",
       "SMAPE  12.991      9.131   11.977   3.636   11.110\n",
       "OWA     0.762      0.792    0.815   0.835    0.793"
      ]
     },
     "execution_count": 4,
     "metadata": {},
     "output_type": "execute_result"
    }
   ],
   "source": [
    "ensemble"
   ]
  },
  {
   "cell_type": "markdown",
   "metadata": {},
   "source": [
    "## Small Ensemble (1 repeat)"
   ]
  },
  {
   "cell_type": "code",
   "execution_count": 5,
   "metadata": {},
   "outputs": [
    {
     "name": "stderr",
     "output_type": "stream",
     "text": [
      "100%|██████████| 18/18 [00:07<00:00,  2.36it/s]\n",
      "100%|██████████| 18/18 [00:07<00:00,  2.34it/s]\n",
      "100%|██████████| 36/36 [00:15<00:00,  2.35it/s]\n"
     ]
    }
   ],
   "source": [
    "summary = M4Summary()\n",
    "generic = pd.DataFrame(summary.evaluate(median_ensemble('/experiment/storage/experiments/m4_generic', \n",
    "                                                        summary_filter='repeat=0*')), index=['SMAPE', 'OWA'])\n",
    "interpretable = pd.DataFrame(summary.evaluate(median_ensemble('/experiment/storage/experiments/m4_interpretable',\n",
    "                                                             summary_filter='repeat=0*')), index=['SMAPE', 'OWA'])\n",
    "ensemble = pd.DataFrame(summary.evaluate(median_ensemble('/experiment/storage/experiments/m4_*',\n",
    "                                                        summary_filter='repeat=0*')), index=['SMAPE', 'OWA'])"
   ]
  },
  {
   "cell_type": "code",
   "execution_count": 6,
   "metadata": {},
   "outputs": [
    {
     "data": {
      "text/html": [
       "<div>\n",
       "<style scoped>\n",
       "    .dataframe tbody tr th:only-of-type {\n",
       "        vertical-align: middle;\n",
       "    }\n",
       "\n",
       "    .dataframe tbody tr th {\n",
       "        vertical-align: top;\n",
       "    }\n",
       "\n",
       "    .dataframe thead th {\n",
       "        text-align: right;\n",
       "    }\n",
       "</style>\n",
       "<table border=\"1\" class=\"dataframe\">\n",
       "  <thead>\n",
       "    <tr style=\"text-align: right;\">\n",
       "      <th></th>\n",
       "      <th>Yearly</th>\n",
       "      <th>Quarterly</th>\n",
       "      <th>Monthly</th>\n",
       "      <th>Others</th>\n",
       "      <th>Average</th>\n",
       "    </tr>\n",
       "  </thead>\n",
       "  <tbody>\n",
       "    <tr>\n",
       "      <th>SMAPE</th>\n",
       "      <td>13.261</td>\n",
       "      <td>9.225</td>\n",
       "      <td>12.121</td>\n",
       "      <td>3.641</td>\n",
       "      <td>11.264</td>\n",
       "    </tr>\n",
       "    <tr>\n",
       "      <th>OWA</th>\n",
       "      <td>0.780</td>\n",
       "      <td>0.800</td>\n",
       "      <td>0.823</td>\n",
       "      <td>0.836</td>\n",
       "      <td>0.805</td>\n",
       "    </tr>\n",
       "  </tbody>\n",
       "</table>\n",
       "</div>"
      ],
      "text/plain": [
       "       Yearly  Quarterly  Monthly  Others  Average\n",
       "SMAPE  13.261      9.225   12.121   3.641   11.264\n",
       "OWA     0.780      0.800    0.823   0.836    0.805"
      ]
     },
     "execution_count": 6,
     "metadata": {},
     "output_type": "execute_result"
    }
   ],
   "source": [
    "generic"
   ]
  },
  {
   "cell_type": "code",
   "execution_count": 7,
   "metadata": {},
   "outputs": [
    {
     "data": {
      "text/html": [
       "<div>\n",
       "<style scoped>\n",
       "    .dataframe tbody tr th:only-of-type {\n",
       "        vertical-align: middle;\n",
       "    }\n",
       "\n",
       "    .dataframe tbody tr th {\n",
       "        vertical-align: top;\n",
       "    }\n",
       "\n",
       "    .dataframe thead th {\n",
       "        text-align: right;\n",
       "    }\n",
       "</style>\n",
       "<table border=\"1\" class=\"dataframe\">\n",
       "  <thead>\n",
       "    <tr style=\"text-align: right;\">\n",
       "      <th></th>\n",
       "      <th>Yearly</th>\n",
       "      <th>Quarterly</th>\n",
       "      <th>Monthly</th>\n",
       "      <th>Others</th>\n",
       "      <th>Average</th>\n",
       "    </tr>\n",
       "  </thead>\n",
       "  <tbody>\n",
       "    <tr>\n",
       "      <th>SMAPE</th>\n",
       "      <td>13.162</td>\n",
       "      <td>9.280</td>\n",
       "      <td>11.991</td>\n",
       "      <td>3.686</td>\n",
       "      <td>11.195</td>\n",
       "    </tr>\n",
       "    <tr>\n",
       "      <th>OWA</th>\n",
       "      <td>0.772</td>\n",
       "      <td>0.805</td>\n",
       "      <td>0.819</td>\n",
       "      <td>0.842</td>\n",
       "      <td>0.800</td>\n",
       "    </tr>\n",
       "  </tbody>\n",
       "</table>\n",
       "</div>"
      ],
      "text/plain": [
       "       Yearly  Quarterly  Monthly  Others  Average\n",
       "SMAPE  13.162      9.280   11.991   3.686   11.195\n",
       "OWA     0.772      0.805    0.819   0.842    0.800"
      ]
     },
     "execution_count": 7,
     "metadata": {},
     "output_type": "execute_result"
    }
   ],
   "source": [
    "interpretable"
   ]
  },
  {
   "cell_type": "code",
   "execution_count": 8,
   "metadata": {},
   "outputs": [
    {
     "data": {
      "text/html": [
       "<div>\n",
       "<style scoped>\n",
       "    .dataframe tbody tr th:only-of-type {\n",
       "        vertical-align: middle;\n",
       "    }\n",
       "\n",
       "    .dataframe tbody tr th {\n",
       "        vertical-align: top;\n",
       "    }\n",
       "\n",
       "    .dataframe thead th {\n",
       "        text-align: right;\n",
       "    }\n",
       "</style>\n",
       "<table border=\"1\" class=\"dataframe\">\n",
       "  <thead>\n",
       "    <tr style=\"text-align: right;\">\n",
       "      <th></th>\n",
       "      <th>Yearly</th>\n",
       "      <th>Quarterly</th>\n",
       "      <th>Monthly</th>\n",
       "      <th>Others</th>\n",
       "      <th>Average</th>\n",
       "    </tr>\n",
       "  </thead>\n",
       "  <tbody>\n",
       "    <tr>\n",
       "      <th>SMAPE</th>\n",
       "      <td>13.072</td>\n",
       "      <td>9.174</td>\n",
       "      <td>11.995</td>\n",
       "      <td>3.651</td>\n",
       "      <td>11.148</td>\n",
       "    </tr>\n",
       "    <tr>\n",
       "      <th>OWA</th>\n",
       "      <td>0.767</td>\n",
       "      <td>0.795</td>\n",
       "      <td>0.816</td>\n",
       "      <td>0.837</td>\n",
       "      <td>0.796</td>\n",
       "    </tr>\n",
       "  </tbody>\n",
       "</table>\n",
       "</div>"
      ],
      "text/plain": [
       "       Yearly  Quarterly  Monthly  Others  Average\n",
       "SMAPE  13.072      9.174   11.995   3.651   11.148\n",
       "OWA     0.767      0.795    0.816   0.837    0.796"
      ]
     },
     "execution_count": 8,
     "metadata": {},
     "output_type": "execute_result"
    }
   ],
   "source": [
    "ensemble"
   ]
  },
  {
   "cell_type": "code",
   "execution_count": null,
   "metadata": {},
   "outputs": [],
   "source": []
  }
 ],
 "metadata": {
  "kernelspec": {
   "display_name": "Python 3",
   "language": "python",
   "name": "python3"
  },
  "language_info": {
   "codemirror_mode": {
    "name": "ipython",
    "version": 3
   },
   "file_extension": ".py",
   "mimetype": "text/x-python",
   "name": "python",
   "nbconvert_exporter": "python",
   "pygments_lexer": "ipython3",
   "version": "3.7.2"
  }
 },
 "nbformat": 4,
 "nbformat_minor": 4
}
