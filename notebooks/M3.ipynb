{
 "cells": [
  {
   "cell_type": "markdown",
   "metadata": {},
   "source": [
    "# M3"
   ]
  },
  {
   "cell_type": "code",
   "execution_count": 1,
   "metadata": {},
   "outputs": [
    {
     "name": "stderr",
     "output_type": "stream",
     "text": [
      "100%|██████████| 180/180 [00:02<00:00, 70.04it/s]\n",
      "100%|██████████| 180/180 [00:02<00:00, 78.27it/s]\n",
      "100%|██████████| 360/360 [00:04<00:00, 74.23it/s]\n"
     ]
    },
    {
     "data": {
      "text/html": [
       "<div>\n",
       "<style scoped>\n",
       "    .dataframe tbody tr th:only-of-type {\n",
       "        vertical-align: middle;\n",
       "    }\n",
       "\n",
       "    .dataframe tbody tr th {\n",
       "        vertical-align: top;\n",
       "    }\n",
       "\n",
       "    .dataframe thead th {\n",
       "        text-align: right;\n",
       "    }\n",
       "</style>\n",
       "<table border=\"1\" class=\"dataframe\">\n",
       "  <thead>\n",
       "    <tr style=\"text-align: right;\">\n",
       "      <th></th>\n",
       "      <th>M3Year</th>\n",
       "      <th>M3Quart</th>\n",
       "      <th>M3Month</th>\n",
       "      <th>M3Other</th>\n",
       "      <th>Average</th>\n",
       "    </tr>\n",
       "  </thead>\n",
       "  <tbody>\n",
       "    <tr>\n",
       "      <th>generic</th>\n",
       "      <td>16.31</td>\n",
       "      <td>8.92</td>\n",
       "      <td>13.35</td>\n",
       "      <td>4.16</td>\n",
       "      <td>12.59</td>\n",
       "    </tr>\n",
       "    <tr>\n",
       "      <th>interpretable</th>\n",
       "      <td>15.79</td>\n",
       "      <td>9.01</td>\n",
       "      <td>13.29</td>\n",
       "      <td>4.26</td>\n",
       "      <td>12.51</td>\n",
       "    </tr>\n",
       "    <tr>\n",
       "      <th>ensemble</th>\n",
       "      <td>15.92</td>\n",
       "      <td>8.80</td>\n",
       "      <td>13.24</td>\n",
       "      <td>4.21</td>\n",
       "      <td>12.46</td>\n",
       "    </tr>\n",
       "  </tbody>\n",
       "</table>\n",
       "</div>"
      ],
      "text/plain": [
       "               M3Year  M3Quart  M3Month  M3Other  Average\n",
       "generic         16.31     8.92    13.35     4.16    12.59\n",
       "interpretable   15.79     9.01    13.29     4.26    12.51\n",
       "ensemble        15.92     8.80    13.24     4.21    12.46"
      ]
     },
     "execution_count": 1,
     "metadata": {},
     "output_type": "execute_result"
    }
   ],
   "source": [
    "import pandas as pd\n",
    "\n",
    "from summary.m3 import M3Summary\n",
    "from summary.utils import median_ensemble\n",
    "\n",
    "summary = M3Summary()\n",
    "\n",
    "generic = pd.DataFrame(summary.evaluate(median_ensemble('/experiment/storage/experiments/m3_generic')), index=['generic'])\n",
    "interpretable = pd.DataFrame(summary.evaluate(median_ensemble('/experiment/storage/experiments/m3_interpretable')), index=['interpretable'])\n",
    "ensemble = pd.DataFrame(summary.evaluate(median_ensemble('/experiment/storage/experiments/m3_*')), index=['ensemble'])\n",
    "pd.concat([generic, interpretable, ensemble])"
   ]
  },
  {
   "cell_type": "markdown",
   "metadata": {},
   "source": [
    "## Small Ensemble (1 repeat)"
   ]
  },
  {
   "cell_type": "code",
   "execution_count": 2,
   "metadata": {},
   "outputs": [
    {
     "name": "stderr",
     "output_type": "stream",
     "text": [
      "100%|██████████| 18/18 [00:00<00:00, 73.46it/s]\n",
      "100%|██████████| 18/18 [00:00<00:00, 82.41it/s]\n",
      "100%|██████████| 36/36 [00:00<00:00, 74.61it/s]\n"
     ]
    },
    {
     "data": {
      "text/html": [
       "<div>\n",
       "<style scoped>\n",
       "    .dataframe tbody tr th:only-of-type {\n",
       "        vertical-align: middle;\n",
       "    }\n",
       "\n",
       "    .dataframe tbody tr th {\n",
       "        vertical-align: top;\n",
       "    }\n",
       "\n",
       "    .dataframe thead th {\n",
       "        text-align: right;\n",
       "    }\n",
       "</style>\n",
       "<table border=\"1\" class=\"dataframe\">\n",
       "  <thead>\n",
       "    <tr style=\"text-align: right;\">\n",
       "      <th></th>\n",
       "      <th>M3Year</th>\n",
       "      <th>M3Quart</th>\n",
       "      <th>M3Month</th>\n",
       "      <th>M3Other</th>\n",
       "      <th>Average</th>\n",
       "    </tr>\n",
       "  </thead>\n",
       "  <tbody>\n",
       "    <tr>\n",
       "      <th>generic</th>\n",
       "      <td>16.30</td>\n",
       "      <td>8.99</td>\n",
       "      <td>13.45</td>\n",
       "      <td>4.13</td>\n",
       "      <td>12.67</td>\n",
       "    </tr>\n",
       "    <tr>\n",
       "      <th>interpretable</th>\n",
       "      <td>15.79</td>\n",
       "      <td>9.05</td>\n",
       "      <td>13.37</td>\n",
       "      <td>4.29</td>\n",
       "      <td>12.58</td>\n",
       "    </tr>\n",
       "    <tr>\n",
       "      <th>ensemble</th>\n",
       "      <td>15.95</td>\n",
       "      <td>8.82</td>\n",
       "      <td>13.27</td>\n",
       "      <td>4.22</td>\n",
       "      <td>12.48</td>\n",
       "    </tr>\n",
       "  </tbody>\n",
       "</table>\n",
       "</div>"
      ],
      "text/plain": [
       "               M3Year  M3Quart  M3Month  M3Other  Average\n",
       "generic         16.30     8.99    13.45     4.13    12.67\n",
       "interpretable   15.79     9.05    13.37     4.29    12.58\n",
       "ensemble        15.95     8.82    13.27     4.22    12.48"
      ]
     },
     "execution_count": 2,
     "metadata": {},
     "output_type": "execute_result"
    }
   ],
   "source": [
    "generic = pd.DataFrame(summary.evaluate(median_ensemble('/experiment/storage/experiments/m3_generic', \n",
    "                                                        summary_filter='repeat=0*')), index=['generic'])\n",
    "interpretable = pd.DataFrame(summary.evaluate(median_ensemble('/experiment/storage/experiments/m3_interpretable', \n",
    "                                                              summary_filter='repeat=0*')), index=['interpretable'])\n",
    "ensemble = pd.DataFrame(summary.evaluate(median_ensemble('/experiment/storage/experiments/m3_*', \n",
    "                                                         summary_filter='repeat=0*')), index=['ensemble'])\n",
    "pd.concat([generic, interpretable, ensemble])"
   ]
  },
  {
   "cell_type": "code",
   "execution_count": null,
   "metadata": {},
   "outputs": [],
   "source": []
  }
 ],
 "metadata": {
  "kernelspec": {
   "display_name": "Python 3",
   "language": "python",
   "name": "python3"
  },
  "language_info": {
   "codemirror_mode": {
    "name": "ipython",
    "version": 3
   },
   "file_extension": ".py",
   "mimetype": "text/x-python",
   "name": "python",
   "nbconvert_exporter": "python",
   "pygments_lexer": "ipython3",
   "version": "3.7.2"
  }
 },
 "nbformat": 4,
 "nbformat_minor": 4
}
