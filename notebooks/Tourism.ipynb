{
 "cells": [
  {
   "cell_type": "markdown",
   "metadata": {},
   "source": [
    "# Tourism"
   ]
  },
  {
   "cell_type": "code",
   "execution_count": 1,
   "metadata": {},
   "outputs": [
    {
     "name": "stderr",
     "output_type": "stream",
     "text": [
      "100%|██████████| 60/60 [00:00<00:00, 86.37it/s]\n",
      "100%|██████████| 60/60 [00:00<00:00, 115.69it/s]\n",
      "100%|██████████| 120/120 [00:01<00:00, 106.49it/s]\n"
     ]
    },
    {
     "data": {
      "text/html": [
       "<div>\n",
       "<style scoped>\n",
       "    .dataframe tbody tr th:only-of-type {\n",
       "        vertical-align: middle;\n",
       "    }\n",
       "\n",
       "    .dataframe tbody tr th {\n",
       "        vertical-align: top;\n",
       "    }\n",
       "\n",
       "    .dataframe thead th {\n",
       "        text-align: right;\n",
       "    }\n",
       "</style>\n",
       "<table border=\"1\" class=\"dataframe\">\n",
       "  <thead>\n",
       "    <tr style=\"text-align: right;\">\n",
       "      <th></th>\n",
       "      <th>Yearly</th>\n",
       "      <th>Quarterly</th>\n",
       "      <th>Monthly</th>\n",
       "      <th>Average</th>\n",
       "    </tr>\n",
       "  </thead>\n",
       "  <tbody>\n",
       "    <tr>\n",
       "      <th>generic</th>\n",
       "      <td>21.43</td>\n",
       "      <td>14.90</td>\n",
       "      <td>19.45</td>\n",
       "      <td>18.65</td>\n",
       "    </tr>\n",
       "    <tr>\n",
       "      <th>interpretable</th>\n",
       "      <td>21.29</td>\n",
       "      <td>15.27</td>\n",
       "      <td>19.91</td>\n",
       "      <td>19.00</td>\n",
       "    </tr>\n",
       "    <tr>\n",
       "      <th>ensemble</th>\n",
       "      <td>21.36</td>\n",
       "      <td>14.95</td>\n",
       "      <td>19.47</td>\n",
       "      <td>18.67</td>\n",
       "    </tr>\n",
       "  </tbody>\n",
       "</table>\n",
       "</div>"
      ],
      "text/plain": [
       "               Yearly  Quarterly  Monthly  Average\n",
       "generic         21.43      14.90    19.45    18.65\n",
       "interpretable   21.29      15.27    19.91    19.00\n",
       "ensemble        21.36      14.95    19.47    18.67"
      ]
     },
     "execution_count": 1,
     "metadata": {},
     "output_type": "execute_result"
    }
   ],
   "source": [
    "import pandas as pd\n",
    "\n",
    "from summary.tourism import TourismSummary\n",
    "from summary.utils import median_ensemble\n",
    "\n",
    "summary = TourismSummary()\n",
    "generic = pd.DataFrame(summary.evaluate(median_ensemble('/experiment/storage/experiments/tourism_generic')), index=['generic'])\n",
    "interpretable = pd.DataFrame(summary.evaluate(median_ensemble('/experiment/storage/experiments/tourism_interpretable')), index=['interpretable'])\n",
    "ensemble = pd.DataFrame(summary.evaluate(median_ensemble('/experiment/storage/experiments/tourism_*')), index=['ensemble'])\n",
    "\n",
    "pd.concat([generic, interpretable, ensemble])"
   ]
  },
  {
   "cell_type": "markdown",
   "metadata": {},
   "source": [
    "## Small ensemble (1 repeat)"
   ]
  },
  {
   "cell_type": "code",
   "execution_count": 2,
   "metadata": {},
   "outputs": [
    {
     "name": "stderr",
     "output_type": "stream",
     "text": [
      "100%|██████████| 6/6 [00:00<00:00, 109.08it/s]\n",
      "100%|██████████| 6/6 [00:00<00:00, 110.09it/s]\n",
      "100%|██████████| 12/12 [00:00<00:00, 97.95it/s]\n"
     ]
    },
    {
     "data": {
      "text/html": [
       "<div>\n",
       "<style scoped>\n",
       "    .dataframe tbody tr th:only-of-type {\n",
       "        vertical-align: middle;\n",
       "    }\n",
       "\n",
       "    .dataframe tbody tr th {\n",
       "        vertical-align: top;\n",
       "    }\n",
       "\n",
       "    .dataframe thead th {\n",
       "        text-align: right;\n",
       "    }\n",
       "</style>\n",
       "<table border=\"1\" class=\"dataframe\">\n",
       "  <thead>\n",
       "    <tr style=\"text-align: right;\">\n",
       "      <th></th>\n",
       "      <th>Yearly</th>\n",
       "      <th>Quarterly</th>\n",
       "      <th>Monthly</th>\n",
       "      <th>Average</th>\n",
       "    </tr>\n",
       "  </thead>\n",
       "  <tbody>\n",
       "    <tr>\n",
       "      <th>generic</th>\n",
       "      <td>21.87</td>\n",
       "      <td>14.93</td>\n",
       "      <td>19.78</td>\n",
       "      <td>18.92</td>\n",
       "    </tr>\n",
       "    <tr>\n",
       "      <th>interpretable</th>\n",
       "      <td>21.91</td>\n",
       "      <td>15.51</td>\n",
       "      <td>20.16</td>\n",
       "      <td>19.31</td>\n",
       "    </tr>\n",
       "    <tr>\n",
       "      <th>ensemble</th>\n",
       "      <td>21.76</td>\n",
       "      <td>14.98</td>\n",
       "      <td>19.66</td>\n",
       "      <td>18.84</td>\n",
       "    </tr>\n",
       "  </tbody>\n",
       "</table>\n",
       "</div>"
      ],
      "text/plain": [
       "               Yearly  Quarterly  Monthly  Average\n",
       "generic         21.87      14.93    19.78    18.92\n",
       "interpretable   21.91      15.51    20.16    19.31\n",
       "ensemble        21.76      14.98    19.66    18.84"
      ]
     },
     "execution_count": 2,
     "metadata": {},
     "output_type": "execute_result"
    }
   ],
   "source": [
    "summary = TourismSummary()\n",
    "generic = pd.DataFrame(summary.evaluate(median_ensemble('/experiment/storage/experiments/tourism_generic',\n",
    "                                                       summary_filter='repeat=0*')), index=['generic'])\n",
    "interpretable = pd.DataFrame(summary.evaluate(median_ensemble('/experiment/storage/experiments/tourism_interpretable',\n",
    "                                                             summary_filter='repeat=0*')), index=['interpretable'])\n",
    "ensemble = pd.DataFrame(summary.evaluate(median_ensemble('/experiment/storage/experiments/tourism_*',\n",
    "                                                        summary_filter='repeat=0*')), index=['ensemble'])\n",
    "\n",
    "pd.concat([generic, interpretable, ensemble])"
   ]
  },
  {
   "cell_type": "code",
   "execution_count": null,
   "metadata": {},
   "outputs": [],
   "source": []
  }
 ],
 "metadata": {
  "kernelspec": {
   "display_name": "Python 3",
   "language": "python",
   "name": "python3"
  },
  "language_info": {
   "codemirror_mode": {
    "name": "ipython",
    "version": 3
   },
   "file_extension": ".py",
   "mimetype": "text/x-python",
   "name": "python",
   "nbconvert_exporter": "python",
   "pygments_lexer": "ipython3",
   "version": "3.7.2"
  }
 },
 "nbformat": 4,
 "nbformat_minor": 4
}
